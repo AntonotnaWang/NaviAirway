{
 "cells": [
  {
   "cell_type": "markdown",
   "id": "f8a046af",
   "metadata": {},
   "source": [
    "# Pre-process EXACT09"
   ]
  },
  {
   "cell_type": "code",
   "execution_count": null,
   "id": "451ac4f8",
   "metadata": {},
   "outputs": [],
   "source": [
    "import os\n",
    "import numpy as np\n",
    "import SimpleITK as sitk\n",
    "from PIL import Image\n",
    "import pydicom\n",
    "import cv2\n",
    "import nibabel as nib"
   ]
  },
  {
   "cell_type": "markdown",
   "id": "d400cfe0",
   "metadata": {},
   "source": [
    "### get dict of img path"
   ]
  },
  {
   "cell_type": "code",
   "execution_count": null,
   "id": "0f32d525",
   "metadata": {},
   "outputs": [],
   "source": [
    "raw_train_file_path = \"/data/Airway/EXACT09/Training\"\n",
    "raw_test_file_path = \"/data/Airway/EXACT09/Testing\""
   ]
  },
  {
   "cell_type": "markdown",
   "id": "66219861",
   "metadata": {},
   "source": [
    "The file structure should be like this\\\n",
    "\\\n",
    "/data/Airway/EXACT09\\\n",
    "    /Training\\\n",
    "        /CASE01\\\n",
    "            /1093782\\\n",
    "            /1093783\\\n",
    "            ...\\\n",
    "        /CASE02\\\n",
    "        ...\\\n",
    "    /Testing\\\n",
    "        /CASE21\\\n",
    "        ..."
   ]
  },
  {
   "cell_type": "code",
   "execution_count": null,
   "id": "b7a0ff15",
   "metadata": {},
   "outputs": [],
   "source": [
    "train_case_dict = dict()\n",
    "test_case_dict = dict()\n",
    "\n",
    "train_case_names=os.listdir(raw_train_file_path)\n",
    "train_case_names.sort()\n",
    "\n",
    "test_case_names=os.listdir(raw_test_file_path)\n",
    "test_case_names.sort()\n",
    "\n",
    "for case_name in train_case_names:\n",
    "    imgs=os.listdir(raw_train_file_path+\"/\"+case_name)\n",
    "    imgs.sort()\n",
    "    img_path_list = []\n",
    "    for img in imgs:\n",
    "        img_path_list.append(raw_train_file_path+\"/\"+case_name+\"/\"+img)\n",
    "    train_case_dict[case_name]=img_path_list\n",
    "\n",
    "for case_name in test_case_names:\n",
    "    imgs=os.listdir(raw_test_file_path+\"/\"+case_name)\n",
    "    imgs.sort()\n",
    "    img_path_list = []\n",
    "    for img in imgs:\n",
    "        img_path_list.append(raw_test_file_path+\"/\"+case_name+\"/\"+img)\n",
    "    test_case_dict[case_name]=img_path_list"
   ]
  },
  {
   "cell_type": "code",
   "execution_count": null,
   "id": "ff7ad4c9",
   "metadata": {},
   "outputs": [],
   "source": [
    "for case in test_case_dict.keys():\n",
    "    print(case, end=\"\\n\")\n",
    "    dicom_file = pydicom.dcmread(test_case_dict[case][0])\n",
    "    keys = list(dicom_file.keys())\n",
    "    for idx, key in enumerate(keys):\n",
    "        if str(key) == \"(0028, 0030)\":\n",
    "            i = idx\n",
    "            break\n",
    "    print(dicom_file[list(dicom_file.keys())[i]])\n",
    "    print(\"----------\")"
   ]
  },
  {
   "cell_type": "markdown",
   "id": "e39e496e",
   "metadata": {},
   "source": [
    "there may be some unsorted image names..."
   ]
  },
  {
   "cell_type": "code",
   "execution_count": null,
   "id": "4c35c529",
   "metadata": {},
   "outputs": [],
   "source": [
    "for name in train_case_dict.keys():\n",
    "    print(name, [train_case_dict[name][i].split(\"/\")[-1] for i in range(7)], end=\"\\n\")"
   ]
  },
  {
   "cell_type": "code",
   "execution_count": null,
   "id": "de0147f1",
   "metadata": {},
   "outputs": [],
   "source": [
    "for name in test_case_dict.keys():\n",
    "    print(name, [test_case_dict[name][i].split(\"/\")[-1] for i in range(7)], end=\"\\n\")"
   ]
  },
  {
   "cell_type": "markdown",
   "id": "0a0299ae",
   "metadata": {},
   "source": [
    "resort the image names of some cases"
   ]
  },
  {
   "cell_type": "code",
   "execution_count": null,
   "id": "605721cc",
   "metadata": {},
   "outputs": [],
   "source": [
    "def resort_names(case_dict, chosen_name, indicator):\n",
    "    new_path_idx_list = []\n",
    "    for path in case_dict[chosen_name]:\n",
    "        name = path.split(\"/\")[-1]\n",
    "        new_path_idx_list.append(int(name.split(indicator)[1]))\n",
    "    new_path_idx_list = np.array(new_path_idx_list)\n",
    "    locs = np.argsort(new_path_idx_list)\n",
    "\n",
    "    new_path_list = []\n",
    "    for i in locs:\n",
    "        new_path_list.append(case_dict[chosen_name][i])\n",
    "\n",
    "    case_dict[chosen_name]=new_path_list"
   ]
  },
  {
   "cell_type": "code",
   "execution_count": null,
   "id": "5b7e338f",
   "metadata": {},
   "outputs": [],
   "source": [
    "resort_names(test_case_dict, \"CASE37\", \"I\")\n",
    "resort_names(test_case_dict, \"CASE36\", \"I\")\n",
    "resort_names(test_case_dict, \"CASE38\", \"I\")\n",
    "resort_names(train_case_dict, \"CASE16\", \"I\")\n",
    "resort_names(train_case_dict, \"CASE17\", \"I\")\n",
    "resort_names(train_case_dict, \"CASE18\", \"I\")"
   ]
  },
  {
   "cell_type": "code",
   "execution_count": null,
   "id": "df81d06f",
   "metadata": {},
   "outputs": [],
   "source": [
    "for name in train_case_dict.keys():\n",
    "    print(name, [train_case_dict[name][i].split(\"/\")[-1] for i in range(7)], end=\"\\n\")"
   ]
  },
  {
   "cell_type": "code",
   "execution_count": null,
   "id": "fe024c58",
   "metadata": {},
   "outputs": [],
   "source": [
    "for name in test_case_dict.keys():\n",
    "    print(name, [test_case_dict[name][i].split(\"/\")[-1] for i in range(7)], end=\"\\n\")"
   ]
  },
  {
   "cell_type": "markdown",
   "id": "440fd81b",
   "metadata": {},
   "source": [
    "### get 3d imgs and save them"
   ]
  },
  {
   "cell_type": "code",
   "execution_count": null,
   "id": "7b3cf5a5",
   "metadata": {},
   "outputs": [],
   "source": [
    "output_file_path = \"TEMP\" #\"/data/Airway/EXACT09_3D\"\n",
    "\n",
    "if not os.path.exists(output_file_path):\n",
    "    os.mkdir(output_file_path)\n",
    "\n",
    "if not os.path.exists(output_file_path+\"/train\"):\n",
    "    os.mkdir(output_file_path+\"/train\")\n",
    "\n",
    "if not os.path.exists(output_file_path+\"/test\"):\n",
    "    os.mkdir(output_file_path+\"/test\")\n",
    "\n",
    "if not os.path.exists(output_file_path+\"/train_label\"):\n",
    "    os.mkdir(output_file_path+\"/train_label\")"
   ]
  },
  {
   "cell_type": "code",
   "execution_count": null,
   "id": "257461a6",
   "metadata": {},
   "outputs": [],
   "source": [
    "def loadFile(filename):\n",
    "    ds = sitk.ReadImage(filename)\n",
    "    img_array = sitk.GetArrayFromImage(ds)\n",
    "    frame_num, width, height = img_array.shape\n",
    "    return img_array, frame_num, width, height\n",
    "\n",
    "def get_3d_img_for_one_case(img_path_list):\n",
    "    img_3d=[]\n",
    "    for idx, img_path in enumerate(img_path_list):\n",
    "        print(\"progress: \"+str(idx/len(img_path_list))+\"; \"+str(img_path), end=\"\\r\")\n",
    "        img_slice, frame_num, _, _ = loadFile(img_path)\n",
    "        assert frame_num==1\n",
    "        img_3d.append(img_slice)\n",
    "    img_3d=np.array(img_3d)\n",
    "    return img_3d.reshape(img_3d.shape[0], img_3d.shape[2], img_3d.shape[3])"
   ]
  },
  {
   "cell_type": "code",
   "execution_count": null,
   "id": "f199bb14",
   "metadata": {},
   "outputs": [],
   "source": [
    "# preprocess and save one case\n",
    "img_3d = get_3d_img_for_one_case(train_case_dict[\"CASE20\"])\n",
    "sitk.WriteImage(sitk.GetImageFromArray(img_3d), output_file_path+\"/train/CASE20.nii.gz\")"
   ]
  },
  {
   "cell_type": "code",
   "execution_count": null,
   "id": "eb1fdb7b",
   "metadata": {},
   "outputs": [],
   "source": [
    "# preprocess and save cases\n",
    "for case in train_case_dict.keys():\n",
    "    print(case, end=\"\\n\")\n",
    "    img_3d = get_3d_img_for_one_case(train_case_dict[case])\n",
    "    sitk.WriteImage(sitk.GetImageFromArray(img_3d),\n",
    "                    output_file_path+\"/train/\"+case+'.nii.gz')\n",
    "    \n",
    "\n",
    "for case in test_case_dict.keys():\n",
    "    print(case, end=\"\\n\")\n",
    "    img_3d = get_3d_img_for_one_case(test_case_dict[case])\n",
    "    sitk.WriteImage(sitk.GetImageFromArray(img_3d),\n",
    "                    output_file_path+\"/test/\"+case+'.nii.gz')"
   ]
  },
  {
   "cell_type": "markdown",
   "id": "37d61d6c",
   "metadata": {},
   "source": [
    "Attention! the image orders of some cases are wrong. You should visually check every 3D img..."
   ]
  },
  {
   "cell_type": "code",
   "execution_count": null,
   "id": "d056b61f",
   "metadata": {},
   "outputs": [],
   "source": [
    "# E.g.\n",
    "\n",
    "def reverse_img_3d_np(img_3d):\n",
    "    img_3d_shape=img_3d.shape\n",
    "    reverse_img_3d = np.zeros(img_3d_shape)\n",
    "    # reverse from the 1st channel\n",
    "    for i in range(img_3d_shape[0]):\n",
    "        print(\"progress: \"+str(i/img_3d_shape[0]), end=\"\\r\")\n",
    "        reverse_img_3d[img_3d_shape[0]-i-1,:,:]=img_3d[i,:,:]\n",
    "    return reverse_img_3d\n",
    "\n",
    "#mark: for CASE13, raw_img = np.concatenate((reverse_img_3d_np(raw_img[:93,:,:]), reverse_img_3d_np(raw_img[93:193,:,:]), reverse_img_3d_np(raw_img[193:,:,:])), axis=0)\n",
    "#mark: for CASE14, raw_img = np.concatenate((reverse_img_3d_np(raw_img[:82,:,:]), reverse_img_3d_np(raw_img[82:181,:,:]),\n",
    "#                          reverse_img_3d_np(raw_img[181:282,:,:]), reverse_img_3d_np(raw_img[282:,:,:])), axis=0)"
   ]
  },
  {
   "cell_type": "code",
   "execution_count": null,
   "id": "078cfb30",
   "metadata": {},
   "outputs": [],
   "source": [
    "# get labels of the training data\n",
    "label_file_path = \"/data/Airway/EXACT09_annotation\"\n",
    "\n",
    "for case in train_case_dict.keys():\n",
    "    print(case)\n",
    "    img_label_arr, _, _, _ = loadFile(label_file_path+'/'+case+'.mhd')\n",
    "    sitk.WriteImage(sitk.GetImageFromArray(img_label_arr),\n",
    "                    output_file_path+\"/train_label/\"+case+'_label.nii.gz')"
   ]
  },
  {
   "cell_type": "code",
   "execution_count": null,
   "id": "5baf2062",
   "metadata": {},
   "outputs": [],
   "source": []
  }
 ],
 "metadata": {
  "interpreter": {
   "hash": "413c74dae44971f489c104d6badd9e955f885b72435dcb78479102e89662e853"
  },
  "kernelspec": {
   "display_name": "Python 3 (ipykernel)",
   "language": "python",
   "name": "python3"
  },
  "language_info": {
   "codemirror_mode": {
    "name": "ipython",
    "version": 3
   },
   "file_extension": ".py",
   "mimetype": "text/x-python",
   "name": "python",
   "nbconvert_exporter": "python",
   "pygments_lexer": "ipython3",
   "version": "3.9.7"
  }
 },
 "nbformat": 4,
 "nbformat_minor": 5
}
