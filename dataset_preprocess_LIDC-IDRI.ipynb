{
 "cells": [
  {
   "cell_type": "markdown",
   "id": "4ac5fc58",
   "metadata": {},
   "source": [
    "# Pre-process LIDC-IDR"
   ]
  },
  {
   "cell_type": "code",
   "execution_count": null,
   "id": "eb1e3c25",
   "metadata": {},
   "outputs": [],
   "source": [
    "import numpy as np\n",
    "import os\n",
    "import SimpleITK as sitk\n",
    "from PIL import Image\n",
    "import pydicom\n",
    "import cv2\n",
    "import nibabel as nib\n",
    "import pydicom\n"
   ]
  },
  {
   "cell_type": "markdown",
   "id": "71a2da3a",
   "metadata": {},
   "source": [
    "### Some functions"
   ]
  },
  {
   "cell_type": "code",
   "execution_count": null,
   "id": "32d3d9aa",
   "metadata": {},
   "outputs": [],
   "source": [
    "def loadFile(filename):\n",
    "    ds = sitk.ReadImage(filename)\n",
    "    #pydicom.dcmread(filename)\n",
    "    img_array = sitk.GetArrayFromImage(ds)\n",
    "    frame_num, width, height = img_array.shape\n",
    "    #print(\"frame_num, width, height: \"+str((frame_num, width, height)))\n",
    "    return img_array, frame_num, width, height\n",
    "\n",
    "'''\n",
    "def loadFileInformation(filename):\n",
    "    information = {}\n",
    "    ds = pydicom.read_file(filename)\n",
    "    information['PatientID'] = ds.PatientID\n",
    "    information['PatientName'] = ds.PatientName\n",
    "    information['PatientSex'] = ds.PatientSex\n",
    "    information['StudyID'] = ds.StudyID\n",
    "    information['StudyDate'] = ds.StudyDate\n",
    "    information['StudyTime'] = ds.StudyTime\n",
    "    information['Manufacturer'] = ds.Manufacturer\n",
    "    return information\n",
    "'''\n",
    "\n",
    "def get_3d_img_for_one_case(img_path_list, img_format=\"dcm\"):\n",
    "    img_3d=[]\n",
    "    for idx, img_path in enumerate(img_path_list):\n",
    "        print(\"progress: \"+str(idx/len(img_path_list))+\"; \"+str(img_path), end=\"\\r\")\n",
    "        img_slice, frame_num, _, _ = loadFile(img_path)\n",
    "        assert frame_num==1\n",
    "        img_3d.append(img_slice)\n",
    "    img_3d=np.array(img_3d)\n",
    "    return img_3d.reshape(img_3d.shape[0], img_3d.shape[2], img_3d.shape[3])"
   ]
  },
  {
   "cell_type": "markdown",
   "id": "81a79403",
   "metadata": {},
   "source": [
    "### for all LIDC-IDRI images"
   ]
  },
  {
   "cell_type": "code",
   "execution_count": null,
   "id": "5bb51720",
   "metadata": {},
   "outputs": [],
   "source": [
    "# the path to LIDC-IDRI raw images\n",
    "\n",
    "LIDC_IDRI_raw_path = \"/data/Airway/LIDC-IDRI\""
   ]
  },
  {
   "cell_type": "markdown",
   "id": "78138bbd",
   "metadata": {},
   "source": [
    "The file structure should be like this\\\n",
    "\\\n",
    "/data/Airway/LIDC-IDRI\\\n",
    "    /LIDC-IDRI-0001\\\n",
    "        /1.3.6.1.4.1.14519.5.2.1.6279.6001.298806137288633453246975630178\\\n",
    "            /1.3.6.1.4.1.14519.5.2.1.6279.6001.179049373636438705059720603192\\\n",
    "                /1-001.dcm\\\n",
    "                /1-002.dcm\\\n",
    "                ...\\\n",
    "    /LIDC-IDRI-0002\\\n",
    "    ..."
   ]
  },
  {
   "cell_type": "code",
   "execution_count": null,
   "id": "8964f7db",
   "metadata": {},
   "outputs": [],
   "source": [
    "LIDC_IDRI_raw_img_dict = {}\n",
    "img_names = os.listdir(LIDC_IDRI_raw_path)\n",
    "img_names.sort()\n",
    "img_names\n",
    "\n",
    "path_to_a_case = \"\"\n",
    "\n",
    "def find_imgs(input_path):\n",
    "    global path_to_a_case\n",
    "    items = os.listdir(input_path)\n",
    "    items.sort()\n",
    "    #print(\"There are \"+str(items)+\" in \"+str(input_path))\n",
    "    All_file_flag = True\n",
    "    for item in items:\n",
    "        if os.path.isdir(input_path+\"/\"+item):\n",
    "            All_file_flag = False\n",
    "            break\n",
    "    if All_file_flag and len(items)>10:\n",
    "        #print(\"we get \"+str(input_path))\n",
    "        path_to_a_case = input_path\n",
    "    else:\n",
    "        for item in items:\n",
    "            if os.path.isdir(input_path+\"/\"+item):\n",
    "                #print(\"open filefloder: \"+str(input_path+\"/\"+item))\n",
    "                find_imgs(input_path+\"/\"+item)\n",
    "    \n",
    "for idx, img_name in enumerate(img_names):\n",
    "    print(idx/len(img_names), end=\"\\r\")\n",
    "    find_imgs(LIDC_IDRI_raw_path+\"/\"+img_name)\n",
    "    slice_names = os.listdir(path_to_a_case)\n",
    "    slice_names.sort()\n",
    "    LIDC_IDRI_raw_img_dict[img_name]=[]\n",
    "    for slice_name in slice_names:\n",
    "        if slice_name.split(\".\")[1]==\"dcm\":\n",
    "            LIDC_IDRI_raw_img_dict[img_name].append(path_to_a_case+\"/\"+slice_name)"
   ]
  },
  {
   "cell_type": "code",
   "execution_count": null,
   "id": "ff5fa72a",
   "metadata": {},
   "outputs": [],
   "source": [
    "print(\"Show the case names: \"+str(LIDC_IDRI_raw_img_dict.keys()))"
   ]
  },
  {
   "cell_type": "code",
   "execution_count": null,
   "id": "4775c93e",
   "metadata": {},
   "outputs": [],
   "source": [
    "# set output path\n",
    "\n",
    "output_image_path = \"LIDC-IDRI\""
   ]
  },
  {
   "cell_type": "code",
   "execution_count": null,
   "id": "ce590b3e",
   "metadata": {},
   "outputs": [],
   "source": [
    "if not os.path.exists(output_image_path):\n",
    "    os.mkdir(output_image_path)\n",
    "    \n",
    "for case in LIDC_IDRI_raw_img_dict.keys():\n",
    "    img_3d = get_3d_img_for_one_case(LIDC_IDRI_raw_img_dict[case])\n",
    "    sitk.WriteImage(sitk.GetImageFromArray(img_3d),\n",
    "                    output_image_path+\"/\"+case+\".nii.gz\")"
   ]
  },
  {
   "cell_type": "markdown",
   "id": "8e78ff81",
   "metadata": {},
   "source": [
    "### for the labeled LIDC-IDRI images"
   ]
  },
  {
   "cell_type": "code",
   "execution_count": null,
   "id": "8b73eaef",
   "metadata": {},
   "outputs": [],
   "source": [
    "LIDC_IDRI_anno_path = \"/data/Airway/LIDC-IDRI_annotation\"\n",
    "\n",
    "anno_names = os.listdir(LIDC_IDRI_anno_path)\n",
    "for idx, name in enumerate(anno_names):\n",
    "    anno_names[idx]=name.split(\".nii.gz\")[0]"
   ]
  },
  {
   "cell_type": "code",
   "execution_count": null,
   "id": "6e62eb6a",
   "metadata": {},
   "outputs": [],
   "source": [
    "LIDC_IDRI_all_raw_img_dict = {}\n",
    "for case in os.listdir(LIDC_IDRI_raw_path):\n",
    "    for name_1 in os.listdir(LIDC_IDRI_raw_path+\"/\"+case):\n",
    "        for name_2 in os.listdir(LIDC_IDRI_raw_path+\"/\"+case+\"/\"+name_1):\n",
    "            img_names = os.listdir(LIDC_IDRI_raw_path+\"/\"+case+\"/\"+name_1+\"/\"+name_2)\n",
    "            img_names.sort()\n",
    "            if len(img_names)>10:\n",
    "                LIDC_IDRI_all_raw_img_dict[case.split(\"-\")[2]] = []\n",
    "                for slice_name in img_names:\n",
    "                    if slice_name.split(\".\")[1]==\"dcm\":\n",
    "                        LIDC_IDRI_all_raw_img_dict[case.split(\"-\")[2]].append(LIDC_IDRI_raw_path+\"/\"+case+\"/\"+name_1+\"/\"+name_2+\"/\"+slice_name)"
   ]
  },
  {
   "cell_type": "code",
   "execution_count": null,
   "id": "45ad5639",
   "metadata": {
    "scrolled": true
   },
   "outputs": [],
   "source": [
    "LIDC_IDRI_annotated = {}\n",
    "LIDC_IDRI_annotation_path = LIDC_IDRI_anno_path\n",
    "\n",
    "for case in os.listdir(LIDC_IDRI_raw_path):\n",
    "    for name_1 in os.listdir(LIDC_IDRI_raw_path+\"/\"+case):\n",
    "        for name_2 in os.listdir(LIDC_IDRI_raw_path+\"/\"+case+\"/\"+name_1):\n",
    "            if name_2 in anno_names:\n",
    "                print(LIDC_IDRI_raw_path+\"/\"+case+\"/\"+name_1+\"/\"+name_2)\n",
    "                img_names = os.listdir(LIDC_IDRI_raw_path+\"/\"+case+\"/\"+name_1+\"/\"+name_2)\n",
    "                img_names.sort()\n",
    "                LIDC_IDRI_annotated[case.split(\"-\")[2]] = {}\n",
    "                LIDC_IDRI_annotated[case.split(\"-\")[2]][\"image\"] = []\n",
    "                LIDC_IDRI_annotated[case.split(\"-\")[2]][\"label\"] = LIDC_IDRI_annotation_path+\"/\"+name_2+\".nii.gz\"\n",
    "                for slice_name in img_names:\n",
    "                    if slice_name.split(\".\")[1]==\"dcm\":\n",
    "                        LIDC_IDRI_annotated[case.split(\"-\")[2]][\"image\"].append(LIDC_IDRI_raw_path+\"/\"+case+\"/\"+name_1+\"/\"+name_2+\"/\"+slice_name)"
   ]
  },
  {
   "cell_type": "code",
   "execution_count": null,
   "id": "d32983d1",
   "metadata": {},
   "outputs": [],
   "source": [
    "### show the info of dcm\n",
    "for case in LIDC_IDRI_annotated.keys():\n",
    "    print(case, end=\"\\n\")\n",
    "    dicom_file = pydicom.dcmread(LIDC_IDRI_annotated[case][\"image\"][0])\n",
    "    keys = list(dicom_file.keys())\n",
    "    for idx, key in enumerate(keys):\n",
    "        if str(key) == \"(0028, 0030)\":\n",
    "            i = idx\n",
    "            break\n",
    "    print(dicom_file[list(dicom_file.keys())[i]])\n",
    "    print(\"----------\")"
   ]
  },
  {
   "cell_type": "markdown",
   "id": "955162fe",
   "metadata": {},
   "source": [
    "Save the images and annotations"
   ]
  },
  {
   "cell_type": "code",
   "execution_count": null,
   "id": "eeda4e54",
   "metadata": {},
   "outputs": [],
   "source": [
    "\n",
    "output_image_path = \"LIDC-IDRI/image\"\n",
    "output_label_path = \"LIDC-IDRI/label\"\n",
    "\n",
    "\n",
    "if not os.path.exists(output_image_path):\n",
    "    os.makedirs(output_image_path)\n",
    "\n",
    "if not os.path.exists(output_label_path):\n",
    "    os.makedirs(output_label_path)\n",
    "\n",
    "for case in LIDC_IDRI_annotated.keys():\n",
    "    img_3d = get_3d_img_for_one_case(LIDC_IDRI_annotated[case][\"image\"])\n",
    "    sitk.WriteImage(sitk.GetImageFromArray(img_3d),\n",
    "                    output_image_path+\"/\"+case+\".nii.gz\")\n",
    "    img_label_arr, _, _, _ = loadFile(LIDC_IDRI_annotated[case][\"label\"])\n",
    "    sitk.WriteImage(sitk.GetImageFromArray(img_label_arr),\n",
    "                    output_label_path+\"/\"+case+'.nii.gz')"
   ]
  },
  {
   "cell_type": "code",
   "execution_count": null,
   "id": "f738097b",
   "metadata": {},
   "outputs": [],
   "source": []
  }
 ],
 "metadata": {
  "kernelspec": {
   "display_name": "Python 3 (ipykernel)",
   "language": "python",
   "name": "python3"
  },
  "language_info": {
   "codemirror_mode": {
    "name": "ipython",
    "version": 3
   },
   "file_extension": ".py",
   "mimetype": "text/x-python",
   "name": "python",
   "nbconvert_exporter": "python",
   "pygments_lexer": "ipython3",
   "version": "3.9.7"
  }
 },
 "nbformat": 4,
 "nbformat_minor": 5
}
